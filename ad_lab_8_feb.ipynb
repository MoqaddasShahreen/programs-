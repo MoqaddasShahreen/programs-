{
  "nbformat": 4,
  "nbformat_minor": 0,
  "metadata": {
    "colab": {
      "provenance": []
    },
    "kernelspec": {
      "name": "python3",
      "display_name": "Python 3"
    },
    "language_info": {
      "name": "python"
    }
  },
  "cells": [
    {
      "cell_type": "code",
      "source": [
        "#regular expression"
      ],
      "metadata": {
        "id": "tcZNvKP2b0v6"
      },
      "execution_count": 50,
      "outputs": []
    },
    {
      "cell_type": "code",
      "source": [
        "print(\"i am in the clg \\n my name is shahtreen\")"
      ],
      "metadata": {
        "colab": {
          "base_uri": "https://localhost:8080/"
        },
        "id": "VafHhwh2SCdK",
        "outputId": "26379c87-5c40-4016-bf40-489e75f874a8"
      },
      "execution_count": 5,
      "outputs": [
        {
          "output_type": "stream",
          "name": "stdout",
          "text": [
            "i am in the clg \n",
            " my name is shahtreen\n"
          ]
        }
      ]
    },
    {
      "cell_type": "code",
      "source": [
        "print(\"i am in the clg \\n my name is shahtreen\\n i am learning nlp \\f happy coding\\t hello\")"
      ],
      "metadata": {
        "colab": {
          "base_uri": "https://localhost:8080/"
        },
        "id": "Zh-zPSYaQa-l",
        "outputId": "f9f9a4a2-63b0-481c-99c9-e96bd8f4b600"
      },
      "execution_count": 4,
      "outputs": [
        {
          "output_type": "stream",
          "name": "stdout",
          "text": [
            "i am in the clg \n",
            " my name is shahtreen\n",
            " i am learning nlp \f happy coding\t hello\n"
          ]
        }
      ]
    },
    {
      "cell_type": "code",
      "source": [
        "import re"
      ],
      "metadata": {
        "id": "tQgjYF-rTRNo"
      },
      "execution_count": 6,
      "outputs": []
    },
    {
      "cell_type": "markdown",
      "source": [
        "re.match()"
      ],
      "metadata": {
        "id": "wis71eMWTX0T"
      }
    },
    {
      "cell_type": "code",
      "source": [
        "from ast import MatchValue\n",
        "string=\"007 james bond wants to learn the python\"\n",
        "Pattern=r'\\d+'\n",
        "matching=re.match(Pattern,string)\n",
        "matching.group()\n"
      ],
      "metadata": {
        "colab": {
          "base_uri": "https://localhost:8080/",
          "height": 35
        },
        "id": "spdGfuX7TQQb",
        "outputId": "7f64dc55-567f-4234-d00b-786fc2705d3b"
      },
      "execution_count": 18,
      "outputs": [
        {
          "output_type": "execute_result",
          "data": {
            "text/plain": [
              "'007'"
            ],
            "application/vnd.google.colaboratory.intrinsic+json": {
              "type": "string"
            }
          },
          "metadata": {},
          "execution_count": 18
        }
      ]
    },
    {
      "cell_type": "code",
      "source": [
        "'''from ast import MatchValue\n",
        "string=\"james bond 007 wants to learn the python\"\n",
        "Pattern=r'\\d+'\n",
        "matching=re.match(Pattern,string)\n",
        "matching.group()'''\n"
      ],
      "metadata": {
        "colab": {
          "base_uri": "https://localhost:8080/",
          "height": 52
        },
        "id": "G9GwaZS1Snvm",
        "outputId": "0097ac84-b52c-479a-ccd4-44c8ab5335e6"
      },
      "execution_count": 19,
      "outputs": [
        {
          "output_type": "execute_result",
          "data": {
            "text/plain": [
              "'from ast import MatchValue\\nstring=\"james bond 007 wants to learn the python\"\\nPattern=r\\'\\\\d+\\'\\nmatching=re.match(Pattern,string)\\nmatching.group()'"
            ],
            "application/vnd.google.colaboratory.intrinsic+json": {
              "type": "string"
            }
          },
          "metadata": {},
          "execution_count": 19
        }
      ]
    },
    {
      "cell_type": "code",
      "source": [
        "import re\n",
        "Pattern=r'\\d+'\n",
        "string=\"james bond 007 wants 008 to learn the python\"\n",
        "matching=re.search(Pattern,string)\n",
        "matching.group()"
      ],
      "metadata": {
        "colab": {
          "base_uri": "https://localhost:8080/",
          "height": 35
        },
        "id": "zkIIn7aoSorH",
        "outputId": "e13c7bab-8c79-4057-b83e-7bec827acd0a"
      },
      "execution_count": 16,
      "outputs": [
        {
          "output_type": "execute_result",
          "data": {
            "text/plain": [
              "'007'"
            ],
            "application/vnd.google.colaboratory.intrinsic+json": {
              "type": "string"
            }
          },
          "metadata": {},
          "execution_count": 16
        }
      ]
    },
    {
      "cell_type": "code",
      "source": [
        "import re\n",
        "pattern =r\"\\d+\"\n",
        "string=\"moqaddas shahreen 1 2 3 4 5\"\n",
        "matching=re.findall(pattern,string)\n",
        "matching"
      ],
      "metadata": {
        "colab": {
          "base_uri": "https://localhost:8080/"
        },
        "id": "G5g35kLhVOZ1",
        "outputId": "f8f1f0e9-d325-4a08-a334-66f168a12c6b"
      },
      "execution_count": 20,
      "outputs": [
        {
          "output_type": "execute_result",
          "data": {
            "text/plain": [
              "['1', '2', '3', '4', '5']"
            ]
          },
          "metadata": {},
          "execution_count": 20
        }
      ]
    },
    {
      "cell_type": "code",
      "source": [
        "import re\n",
        "pattern=r\"\\D+\"\n",
        "string=\"moqaddas shahreen 1 2 3 4 5\"\n",
        "matching=re.findall(pattern,string)\n",
        "matching"
      ],
      "metadata": {
        "colab": {
          "base_uri": "https://localhost:8080/"
        },
        "id": "GvjGL5y5V_4f",
        "outputId": "2ca63364-27e4-4013-ad97-898a59a649dc"
      },
      "execution_count": 21,
      "outputs": [
        {
          "output_type": "execute_result",
          "data": {
            "text/plain": [
              "['moqaddas shahreen ', ' ', ' ', ' ', ' ']"
            ]
          },
          "metadata": {},
          "execution_count": 21
        }
      ]
    },
    {
      "cell_type": "code",
      "source": [
        "import re\n",
        "Pattern=r'\\D+'\n",
        "string=\"james bond 007 wants 008 to learn the python\"\n",
        "matching=re.search(Pattern,string)\n",
        "matching.group()"
      ],
      "metadata": {
        "colab": {
          "base_uri": "https://localhost:8080/",
          "height": 35
        },
        "id": "byiJJyCaV_77",
        "outputId": "6cc683a6-f7b6-4c46-fc71-b6ba1edefad7"
      },
      "execution_count": 23,
      "outputs": [
        {
          "output_type": "execute_result",
          "data": {
            "text/plain": [
              "'james bond '"
            ],
            "application/vnd.google.colaboratory.intrinsic+json": {
              "type": "string"
            }
          },
          "metadata": {},
          "execution_count": 23
        }
      ]
    },
    {
      "cell_type": "code",
      "source": [
        "import re\n",
        "Pattern=r'\\D+'\n",
        "string=\"james bond *** wants ** to learn the python\"\n",
        "matching=re.search(Pattern,string)\n",
        "matching.group()"
      ],
      "metadata": {
        "colab": {
          "base_uri": "https://localhost:8080/",
          "height": 35
        },
        "id": "NgmsKR08WoNh",
        "outputId": "6fa055d4-ccea-4d77-da4f-4d04fcf118c3"
      },
      "execution_count": 26,
      "outputs": [
        {
          "output_type": "execute_result",
          "data": {
            "text/plain": [
              "'james bond *** wants ** to learn the python'"
            ],
            "application/vnd.google.colaboratory.intrinsic+json": {
              "type": "string"
            }
          },
          "metadata": {},
          "execution_count": 26
        }
      ]
    },
    {
      "cell_type": "code",
      "source": [
        "import re\n",
        "Pattern=r'\\d'\n",
        "string=\"james bond 465 wants 172 to learn the python\"\n",
        "matching=re.sub(Pattern,'#',string)\n",
        "matching"
      ],
      "metadata": {
        "colab": {
          "base_uri": "https://localhost:8080/",
          "height": 35
        },
        "id": "rL4J7hpCWuZN",
        "outputId": "d0b4c6ea-7882-4dd0-a049-82c169b30322"
      },
      "execution_count": 31,
      "outputs": [
        {
          "output_type": "execute_result",
          "data": {
            "text/plain": [
              "'james bond ### wants ### to learn the python'"
            ],
            "application/vnd.google.colaboratory.intrinsic+json": {
              "type": "string"
            }
          },
          "metadata": {},
          "execution_count": 31
        }
      ]
    },
    {
      "cell_type": "code",
      "source": [
        "import re\n",
        "pattern =r'[a-zA-z0-9._/%-+]+@[a-zA-Z0.-]+\\.[a-zA-Z]{2,}'\n",
        "string='''hello world! contact us at info@example.com or support123@company.org follow visit <a href=\"http://ecample.com\">our website</a>for more details.this is #moqaddas '''\n",
        "\n",
        "matching=re.findall(pattern,string)\n",
        "matching"
      ],
      "metadata": {
        "colab": {
          "base_uri": "https://localhost:8080/"
        },
        "id": "qaVI2NSrXfNM",
        "outputId": "6009ad3a-3901-4b6c-ae6d-7effa75c956e"
      },
      "execution_count": 47,
      "outputs": [
        {
          "output_type": "execute_result",
          "data": {
            "text/plain": [
              "['info@example.com', 'support123@company.org']"
            ]
          },
          "metadata": {},
          "execution_count": 47
        }
      ]
    },
    {
      "cell_type": "code",
      "source": [
        "hash_tags=re.findall(r'\\w+',string)\n",
        "hash_tags"
      ],
      "metadata": {
        "colab": {
          "base_uri": "https://localhost:8080/"
        },
        "id": "T86NNOL4a18n",
        "outputId": "0ce586b3-6c97-48f7-ff74-a0aec7f53f5d"
      },
      "execution_count": 48,
      "outputs": [
        {
          "output_type": "execute_result",
          "data": {
            "text/plain": [
              "['hello',\n",
              " 'world',\n",
              " 'contact',\n",
              " 'us',\n",
              " 'at',\n",
              " 'info',\n",
              " 'example',\n",
              " 'com',\n",
              " 'or',\n",
              " 'support123',\n",
              " 'company',\n",
              " 'org',\n",
              " 'follow',\n",
              " 'visit',\n",
              " 'a',\n",
              " 'href',\n",
              " 'http',\n",
              " 'ecample',\n",
              " 'com',\n",
              " 'our',\n",
              " 'website',\n",
              " 'a',\n",
              " 'for',\n",
              " 'more',\n",
              " 'details',\n",
              " 'this',\n",
              " 'is',\n",
              " 'moqaddas']"
            ]
          },
          "metadata": {},
          "execution_count": 48
        }
      ]
    }
  ]
}